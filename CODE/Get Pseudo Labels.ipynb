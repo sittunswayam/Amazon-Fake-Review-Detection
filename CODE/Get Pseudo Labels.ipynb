{
 "cells": [
  {
   "cell_type": "code",
   "execution_count": 1,
   "id": "373e18c9",
   "metadata": {},
   "outputs": [],
   "source": [
    "import numpy as np\n",
    "import pandas as pd"
   ]
  },
  {
   "cell_type": "code",
   "execution_count": 2,
   "id": "d34d4a88",
   "metadata": {},
   "outputs": [],
   "source": [
    "df1 = pd.read_csv(\"../DATASET/GENERATED/CLEANED/SITTUN/part_1_clean.csv\", header=None)\n",
    "df2 = pd.read_csv(\"../DATASET/GENERATED/CLEANED/SITTUN/part_2_clean.csv\", header=None)"
   ]
  },
  {
   "cell_type": "code",
   "execution_count": 3,
   "id": "1fb3b022",
   "metadata": {},
   "outputs": [],
   "source": [
    "df = pd.concat([df1,df2])"
   ]
  },
  {
   "cell_type": "code",
   "execution_count": 4,
   "id": "4ee832f8",
   "metadata": {},
   "outputs": [],
   "source": [
    "from sklearn.linear_model import LogisticRegression\n",
    "import joblib"
   ]
  },
  {
   "cell_type": "code",
   "execution_count": 5,
   "id": "60175827",
   "metadata": {},
   "outputs": [
    {
     "name": "stderr",
     "output_type": "stream",
     "text": [
      "/opt/anaconda3/lib/python3.8/site-packages/sklearn/base.py:324: UserWarning: Trying to unpickle estimator LogisticRegression from version 0.22.2.post1 when using version 1.0.1. This might lead to breaking code or invalid results. Use at your own risk. For more info please refer to:\n",
      "https://scikit-learn.org/stable/modules/model_persistence.html#security-maintainability-limitations\n",
      "  warnings.warn(\n"
     ]
    }
   ],
   "source": [
    "model = \"../MODELS/LogReg.joblib\"\n",
    "LogReg = joblib.load(model)"
   ]
  },
  {
   "cell_type": "code",
   "execution_count": 6,
   "id": "22107a8b",
   "metadata": {},
   "outputs": [],
   "source": [
    "pred = LogReg.predict(df)\n",
    "pred_fake = pred[np.where(pred == 1)]\n",
    "pred_real = pred[np.where(pred == 0)]"
   ]
  },
  {
   "cell_type": "code",
   "execution_count": 7,
   "id": "9aabed7e",
   "metadata": {},
   "outputs": [
    {
     "name": "stdout",
     "output_type": "stream",
     "text": [
      "575074\n",
      "84099\n",
      "490975\n"
     ]
    }
   ],
   "source": [
    "print(pred.size)\n",
    "print(pred_fake.size)\n",
    "print(pred_real.size)"
   ]
  },
  {
   "cell_type": "code",
   "execution_count": 8,
   "id": "be5e8982",
   "metadata": {},
   "outputs": [],
   "source": [
    "prob = pd.DataFrame(LogReg.predict_proba(df))\n",
    "prob['max'] = prob.apply(lambda x: max(x[0],x[1]), axis=1)"
   ]
  },
  {
   "cell_type": "code",
   "execution_count": 9,
   "id": "563bfb46",
   "metadata": {},
   "outputs": [],
   "source": [
    "def get_labels(row):\n",
    "    if (row[0] > row[1]):\n",
    "        return 'real'\n",
    "    else:\n",
    "        return 'fake'\n",
    "    \n",
    "prob['label'] = prob.apply(lambda x: get_labels(x), axis=1)"
   ]
  },
  {
   "cell_type": "code",
   "execution_count": 10,
   "id": "812619d1",
   "metadata": {},
   "outputs": [],
   "source": [
    "prob_max_70_80  = prob[(prob['max'] >= 0.70) & (prob['max'] <= 0.80)]\n",
    "prob_max_80_90  = prob[(prob['max'] >= 0.80) & (prob['max'] <= 0.90)]\n",
    "prob_max_90_100 = prob[prob['max'] >= 0.90]\n",
    "prob_max_95_100 = prob[prob['max'] >= 0.95]"
   ]
  },
  {
   "cell_type": "code",
   "execution_count": 17,
   "id": "12027753",
   "metadata": {},
   "outputs": [
    {
     "name": "stdout",
     "output_type": "stream",
     "text": [
      "85757\n",
      "15594\n",
      "70163\n"
     ]
    }
   ],
   "source": [
    "print(prob_max_70_80.shape[0])\n",
    "print(prob_max_70_80[prob_max_70_80['label'] == 'fake'].shape[0])\n",
    "print(prob_max_70_80[prob_max_70_80['label'] == 'real'].shape[0])"
   ]
  },
  {
   "cell_type": "code",
   "execution_count": 20,
   "id": "8b939169",
   "metadata": {},
   "outputs": [
    {
     "name": "stdout",
     "output_type": "stream",
     "text": [
      "155943\n",
      "14829\n",
      "141114\n"
     ]
    }
   ],
   "source": [
    "print(prob_max_80_90.shape[0])\n",
    "print(prob_max_80_90[prob_max_80_90['label'] == 'fake'].shape[0])\n",
    "print(prob_max_80_90[prob_max_80_90['label'] == 'real'].shape[0])"
   ]
  },
  {
   "cell_type": "code",
   "execution_count": 21,
   "id": "00bbc1e6",
   "metadata": {},
   "outputs": [
    {
     "name": "stdout",
     "output_type": "stream",
     "text": [
      "215061\n",
      "11594\n",
      "203467\n"
     ]
    }
   ],
   "source": [
    "print(prob_max_90_100.shape[0])\n",
    "print(prob_max_90_100[prob_max_90_100['label'] == 'fake'].shape[0])\n",
    "print(prob_max_90_100[prob_max_90_100['label'] == 'real'].shape[0])"
   ]
  },
  {
   "cell_type": "code",
   "execution_count": 22,
   "id": "9eeaf0f0",
   "metadata": {},
   "outputs": [
    {
     "name": "stdout",
     "output_type": "stream",
     "text": [
      "90617\n",
      "4483\n",
      "86134\n"
     ]
    }
   ],
   "source": [
    "print(prob_max_95_100.shape[0])\n",
    "print(prob_max_95_100[prob_max_95_100['label'] == 'fake'].shape[0])\n",
    "print(prob_max_95_100[prob_max_95_100['label'] == 'real'].shape[0])"
   ]
  }
 ],
 "metadata": {
  "kernelspec": {
   "display_name": "Python 3 (ipykernel)",
   "language": "python",
   "name": "python3"
  },
  "language_info": {
   "codemirror_mode": {
    "name": "ipython",
    "version": 3
   },
   "file_extension": ".py",
   "mimetype": "text/x-python",
   "name": "python",
   "nbconvert_exporter": "python",
   "pygments_lexer": "ipython3",
   "version": "3.8.12"
  }
 },
 "nbformat": 4,
 "nbformat_minor": 5
}
